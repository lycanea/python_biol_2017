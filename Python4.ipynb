{
 "cells": [
  {
   "cell_type": "code",
   "execution_count": 14,
   "metadata": {},
   "outputs": [],
   "source": [
    "def nukleo (s,nuk):\n",
    "    delka = len(s)\n",
    "    nuk = nuk\n",
    "    a = s.count(nuk)\n",
    "    return a/delka"
   ]
  },
  {
   "cell_type": "code",
   "execution_count": 21,
   "metadata": {},
   "outputs": [
    {
     "data": {
      "text/plain": [
       "0.5"
      ]
     },
     "execution_count": 21,
     "metadata": {},
     "output_type": "execute_result"
    }
   ],
   "source": [
    "nukleo(s='AABB', nuk=\"A\")\n",
    "\n",
    "\n"
   ]
  },
  {
   "cell_type": "code",
   "execution_count": 22,
   "metadata": {},
   "outputs": [],
   "source": [
    "#def nukleo2 (s):\n",
    "    nukleo \n",
    "    delka = len(s)\n",
    "    a = s.count(\"A\")\n",
    "    c = s.count(\"C\")\n",
    "    t = s.count(\"T\")\n",
    "    g = s.count(\"G\")\n",
    "    nuk={\"A\":a/delka,\"C\":c/delka,\"T\":t/delka,\"G\":g/delka}\n",
    "    return nuk"
   ]
  },
  {
   "cell_type": "code",
   "execution_count": 23,
   "metadata": {},
   "outputs": [
    {
     "data": {
      "text/plain": [
       "{'A': 0.25, 'C': 0.25, 'G': 0.25, 'T': 0.25}"
      ]
     },
     "execution_count": 23,
     "metadata": {},
     "output_type": "execute_result"
    }
   ],
   "source": [
    "nukleo2('ACTG')\n"
   ]
  },
  {
   "cell_type": "code",
   "execution_count": null,
   "metadata": {},
   "outputs": [],
   "source": []
  },
  {
   "cell_type": "code",
   "execution_count": 26,
   "metadata": {},
   "outputs": [],
   "source": [
    "def nukleo3(s):\n",
    "    delka=len(s)\n",
    "    nuk = \"A\"\n",
    "    nuk1 = \"C\"\n",
    "    nuk2 = \"T\"\n",
    "    nuk3 = \"G\"\n",
    "    a=s.count(nuk)\n",
    "    c=s.count(nuk2)\n",
    "    b=s.count(nuk1)\n",
    "    d=s.count(nuk3)\n",
    "    nuke = {nuk:a/delka,nuk1:b/delka,nuk2:c/delka,nuk3:d/delka}\n",
    "    return nuke\n"
   ]
  },
  {
   "cell_type": "code",
   "execution_count": 28,
   "metadata": {},
   "outputs": [
    {
     "data": {
      "text/plain": [
       "{'A': 0.16666666666666666,\n",
       " 'C': 0.16666666666666666,\n",
       " 'G': 0.5,\n",
       " 'T': 0.16666666666666666}"
      ]
     },
     "execution_count": 28,
     "metadata": {},
     "output_type": "execute_result"
    }
   ],
   "source": [
    "nukleo3('ACTGGG')\n",
    "\n"
   ]
  },
  {
   "cell_type": "code",
   "execution_count": null,
   "metadata": {},
   "outputs": [],
   "source": []
  },
  {
   "cell_type": "code",
   "execution_count": null,
   "metadata": {},
   "outputs": [],
   "source": []
  }
 ],
 "metadata": {
  "kernelspec": {
   "display_name": "Python 3",
   "language": "python",
   "name": "python3"
  },
  "language_info": {
   "codemirror_mode": {
    "name": "ipython",
    "version": 3
   },
   "file_extension": ".py",
   "mimetype": "text/x-python",
   "name": "python",
   "nbconvert_exporter": "python",
   "pygments_lexer": "ipython3",
   "version": "3.5.2"
  }
 },
 "nbformat": 4,
 "nbformat_minor": 2
}
