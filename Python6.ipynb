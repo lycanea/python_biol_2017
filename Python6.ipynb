{
 "cells": [
  {
   "cell_type": "code",
   "execution_count": 2,
   "metadata": {},
   "outputs": [],
   "source": [
    "import pandas as pd\n",
    "import numpy as np\n",
    "import xlrd \n"
   ]
  },
  {
   "cell_type": "code",
   "execution_count": 3,
   "metadata": {},
   "outputs": [
    {
     "ename": "SyntaxError",
     "evalue": "invalid syntax (<ipython-input-3-8082d13070ff>, line 1)",
     "output_type": "error",
     "traceback": [
      "\u001b[0;36m  File \u001b[0;32m\"<ipython-input-3-8082d13070ff>\"\u001b[0;36m, line \u001b[0;32m1\u001b[0m\n\u001b[0;31m    Spočítejte, kolik pasažérů má jenom jedno křestní\u001b[0m\n\u001b[0m                             ^\u001b[0m\n\u001b[0;31mSyntaxError\u001b[0m\u001b[0;31m:\u001b[0m invalid syntax\n"
     ]
    }
   ],
   "source": [
    "Spočítejte, kolik pasažérů má jenom jedno křestní \n",
    "jméno. (Nápověda: použijte funkci str.len())\n",
    "Zjistěte, ve kterém záchranném člunu bylo nejvíce \n",
    "lidí. (Nápověda: použijte funkci groupby() a argmax())\n"
   ]
  },
  {
   "cell_type": "code",
   "execution_count": 236,
   "metadata": {},
   "outputs": [],
   "source": [
    "titanic = pd.read_excel('http://biostat.mc.vanderbilt.edu/wiki/pub/Main/DataSets/titanic3.xls')\n"
   ]
  },
  {
   "cell_type": "code",
   "execution_count": 297,
   "metadata": {},
   "outputs": [
    {
     "name": "stdout",
     "output_type": "stream",
     "text": [
      "počet lidí, kteří mají pouze jedno křestní jméno:  449\n"
     ]
    }
   ],
   "source": [
    "print(\"počet lidí, kteří mají pouze jedno křestní jméno: \",(len(titanic.name))-sum(titanic.name.str.split(\" \").str.len()>3))"
   ]
  },
  {
   "cell_type": "code",
   "execution_count": 302,
   "metadata": {},
   "outputs": [
    {
     "name": "stdout",
     "output_type": "stream",
     "text": [
      "Člun, ve kterém bylo nejvíc pasažérů: 13\n"
     ]
    }
   ],
   "source": [
    "tit1=titanic.groupby(\"survived\").get_group(1)\n",
    "tit=tit1.boat.str.replace(\"A\",\"101\").str.replace(\"B\",\"102\").str.replace(\"D\",\"104\").str.replace(\"C\",\"103\").str.replace(\" \",\"\")\n",
    "tt=tit.value_counts() \n",
    "print(\"Člun, ve kterém bylo nejvíc pasažérů:\",tt.argmax())"
   ]
  },
  {
   "cell_type": "code",
   "execution_count": null,
   "metadata": {},
   "outputs": [],
   "source": []
  }
 ],
 "metadata": {
  "kernelspec": {
   "display_name": "Python 3",
   "language": "python",
   "name": "python3"
  },
  "language_info": {
   "codemirror_mode": {
    "name": "ipython",
    "version": 3
   },
   "file_extension": ".py",
   "mimetype": "text/x-python",
   "name": "python",
   "nbconvert_exporter": "python",
   "pygments_lexer": "ipython3",
   "version": "3.5.2"
  }
 },
 "nbformat": 4,
 "nbformat_minor": 2
}
