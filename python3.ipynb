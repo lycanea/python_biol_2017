{
 "cells": [
  {
   "cell_type": "code",
   "execution_count": 105,
   "metadata": {},
   "outputs": [
    {
     "name": "stdout",
     "output_type": "stream",
     "text": [
      "Zadej větu: Král řekl Honzovi: \"Ta saň má 7 hlav! Zabij ji a dostaneš 1/2 království.\"\n",
      "Počet znaků celkem: 74\n",
      "Počet čísel:  3\n",
      "Počet písmen:  52\n",
      "Počet dalších znaků:  19\n"
     ]
    }
   ],
   "source": [
    "veta=input(\"Zadej větu: \")\n",
    "print(\"Počet znaků celkem:\",len(veta))    \n",
    "pismena=0\n",
    "cisla=0\n",
    "ostatni=0\n",
    "for i in veta:\n",
    "    if i in \"1234567890\": \n",
    "        cisla = cisla + 1 \n",
    "    elif i in \"ěščřžýáíéóňťďqwertzuiopasdfghjklyxcvbnmůúQWERTZUIOPLKJHGFDSAMNBVCXY\":\n",
    "        pismena = pismena + 1\n",
    "    else:\n",
    "        ostatni = ostatni + 1\n",
    "print(\"Počet čísel: \",cisla)\n",
    "print(\"Počet písmen: \",pismena)\n",
    "print(\"Počet dalších znaků: \",ostatni)"
   ]
  },
  {
   "cell_type": "code",
   "execution_count": 26,
   "metadata": {},
   "outputs": [
    {
     "name": "stdout",
     "output_type": "stream",
     "text": [
      "Zadejte prosím věk vaší miciny: 5\n",
      "Vaší micine je 40.0 lidských let\n"
     ]
    }
   ],
   "source": [
    "micina=(float(input(\"Zadejte prosím věk vaší miciny: \")))\n",
    "if micina < 1:\n",
    "    mic_vek=((micina)*18)\n",
    "    print(\"Vaší micine je\",mic_vek,\"lidských let\")\n",
    "if micina > 1 and micina < 2:\n",
    "    mic_vk=(18+((micina) - 1)*7)\n",
    "    print(\"Vaší micine je\",mic_vk,\"lidských let\")\n",
    "if micina == 1:\n",
    "    mic_vek1=((micina)*18)\n",
    "    print(\"Vaší micine je\",mic_vek1,\"lidských let\")\n",
    "if micina == 2:\n",
    "    mic_vek2=(25)\n",
    "    print(\"Vaší micine je\",mic_vek2,\"lidských let\")\n",
    "if micina > 2:\n",
    "    mic_vek3=(25+((((micina)-2)*5)))\n",
    "    print(\"Vaší micine je\",mic_vek3,\"lidských let\")"
   ]
  },
  {
   "cell_type": "code",
   "execution_count": null,
   "metadata": {},
   "outputs": [],
   "source": []
  },
  {
   "cell_type": "code",
   "execution_count": null,
   "metadata": {},
   "outputs": [],
   "source": []
  },
  {
   "cell_type": "code",
   "execution_count": null,
   "metadata": {},
   "outputs": [],
   "source": []
  }
 ],
 "metadata": {
  "kernelspec": {
   "display_name": "Python 3",
   "language": "python",
   "name": "python3"
  },
  "language_info": {
   "codemirror_mode": {
    "name": "ipython",
    "version": 3
   },
   "file_extension": ".py",
   "mimetype": "text/x-python",
   "name": "python",
   "nbconvert_exporter": "python",
   "pygments_lexer": "ipython3",
   "version": "3.5.2"
  }
 },
 "nbformat": 4,
 "nbformat_minor": 2
}
